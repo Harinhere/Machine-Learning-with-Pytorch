{
 "cells": [
  {
   "cell_type": "code",
   "execution_count": 1,
   "metadata": {},
   "outputs": [],
   "source": [
    "#Author:Harindranath Ambalampitiya, PhD (Theoretical physics)\n",
    "import torch\n",
    "import torch.nn as nn\n",
    "import torch.nn.functional as Fun\n",
    "import numpy as np\n",
    "from numpy import pi,sin,cos\n",
    "import matplotlib.pyplot as plt\n",
    "import imageio"
   ]
  },
  {
   "cell_type": "code",
   "execution_count": 2,
   "metadata": {},
   "outputs": [],
   "source": [
    "#Data creation for non-linear regression\n",
    "#Data is simulating a single slit diffraction pattern\n",
    "#model parameters, i.e.,number of independent and\n",
    "#dependent variables and hidden layers\n",
    "input_size=1\n",
    "output_size=1\n",
    "n_hidden=256\n",
    "#Prepare the physics based data\n",
    "#number of samples for  training and test\n",
    "nsamp=500\n",
    "x_data=torch.zeros((nsamp,1))\n",
    "y_data=torch.zeros((nsamp,1))\n",
    "x_test_data=torch.zeros((nsamp,1))"
   ]
  },
  {
   "cell_type": "code",
   "execution_count": 3,
   "metadata": {},
   "outputs": [],
   "source": [
    "for i in range(0,nsamp):\n",
    "    phi=-4.*pi+8.*pi*np.random.ranf()\n",
    "    x_data[i]=phi\n",
    "    x_test_data[i]=-4.*pi+i*8.*pi/nsamp\n",
    "    y_data[i]=(sin(phi/2.)/(phi/2.))**2\n",
    "    #add some noise to y_data\n",
    "    y_data[i]=y_data[i]-0.075+.15*np.random.ranf()\n",
    "    \n",
    "\n",
    "\n",
    "#Data normalization\n",
    "def normalize(x):\n",
    "    x_normed = x / x.max(0, keepdim=True)[0]\n",
    "    return x_normed\n",
    "\n",
    "x_data=normalize(x_data)\n",
    "y_data=normalize(y_data)\n",
    "x_test_data=normalize(x_test_data)"
   ]
  },
  {
   "cell_type": "code",
   "execution_count": 4,
   "metadata": {},
   "outputs": [],
   "source": [
    "class NonLinearRegression(nn.Module):\n",
    "    def __init__(self,input_size,n_hidden,output_size):\n",
    "        super(NonLinearRegression,self).__init__()\n",
    "        self.hidden=nn.Linear(input_size, n_hidden)\n",
    "        self.predict=nn.Linear(n_hidden,output_size)\n",
    "    \n",
    "    def forward(self,x):\n",
    "        y_out=Fun.relu(self.hidden(x))\n",
    "        return self.predict(y_out)\n",
    "    \n",
    "#Model description\n",
    "model=NonLinearRegression(input_size,n_hidden,output_size)\n",
    "#Mean squared error (MSE) loss function\n",
    "criterion=nn.MSELoss()\n",
    "#stochastic gradient descent (SGD) optimization\n",
    "#lr is the learning-rate\n",
    "optimizer=torch.optim.SGD(model.parameters(),lr=0.05)\n"
   ]
  },
  {
   "cell_type": "code",
   "execution_count": 7,
   "metadata": {},
   "outputs": [],
   "source": [
    "for epoch in range(5000):\n",
    "    \n",
    "    #initial prediction with a forward-pass\n",
    "    y_predict=model(x_data)\n",
    "    \n",
    "    #compute the error functin\n",
    "    loss=criterion(y_predict,y_data)\n",
    "    #minimize error with gradients\n",
    "    optimizer.zero_grad()\n",
    "    #update the weights\n",
    "    loss.backward()\n",
    "    optimizer.step()"
   ]
  },
  {
   "cell_type": "code",
   "execution_count": 10,
   "metadata": {},
   "outputs": [
    {
     "data": {
      "text/plain": [
       "<matplotlib.legend.Legend at 0x254774d32e8>"
      ]
     },
     "execution_count": 10,
     "metadata": {},
     "output_type": "execute_result"
    },
    {
     "data": {
      "image/png": "[encoded data removed]",
      "text/plain": [
       "<Figure size 432x288 with 1 Axes>"
      ]
     },
     "metadata": {
      "needs_background": "light"
     },
     "output_type": "display_data"
    }
   ],
   "source": [
    "y_new=model(x_test_data).detach()\n",
    "plt.scatter(x_data,y_data,label='Data',c='r')\n",
    "plt.plot(x_test_data,y_new,label='Fit',c='black')\n",
    "plt.xlabel(r'$\\theta$')\n",
    "plt.ylabel('Intensity')\n",
    "plt.legend()"
   ]
  },
  {
   "cell_type": "code",
   "execution_count": null,
   "metadata": {},
   "outputs": [],
   "source": []
  }
 ],
 "metadata": {
  "kernelspec": {
   "display_name": "Python 3",
   "language": "python",
   "name": "python3"
  },
  "language_info": {
   "codemirror_mode": {
    "name": "ipython",
    "version": 3
   },
   "file_extension": ".py",
   "mimetype": "text/x-python",
   "name": "python",
   "nbconvert_exporter": "python",
   "pygments_lexer": "ipython3",
   "version": "3.6.9"
  }
 },
 "nbformat": 4,
 "nbformat_minor": 2
}
